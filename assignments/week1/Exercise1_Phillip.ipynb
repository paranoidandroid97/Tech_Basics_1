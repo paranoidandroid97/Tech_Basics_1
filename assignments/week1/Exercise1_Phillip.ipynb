{
 "cells": [
  {
   "metadata": {},
   "cell_type": "markdown",
   "source": [
    "# Exercise 1\n",
    "\n",
    "Make a little piece of ASCII art with print functions in python. You can first try it out here in the notebook. After you are satisfied with your result, save it as a `.py` file"
   ],
   "id": "d011c790f5538a0"
  },
  {
   "metadata": {
    "ExecuteTime": {
     "end_time": "2025-04-13T20:29:54.614931Z",
     "start_time": "2025-04-13T20:29:54.610151Z"
    }
   },
   "cell_type": "code",
   "source": [
    "print(\" /\\\\_/\\\\    (\\\\_/)    \")\n",
    "print(\"( o.o )  (='.'=)   \")\n",
    "print(\" > ^ <   (\\\")_(\\\")  \")"
   ],
   "id": "200bb46349901af0",
   "outputs": [
    {
     "name": "stdout",
     "output_type": "stream",
     "text": [
      " /\\_/\\    (\\_/)    \n",
      "( o.o )  (='.'=)   \n",
      " > ^ <   (\")_(\")  \n"
     ]
    }
   ],
   "execution_count": 16
  }
 ],
 "metadata": {
  "kernelspec": {
   "display_name": "Python 3",
   "language": "python",
   "name": "python3"
  },
  "language_info": {
   "codemirror_mode": {
    "name": "ipython",
    "version": 2
   },
   "file_extension": ".py",
   "mimetype": "text/x-python",
   "name": "python",
   "nbconvert_exporter": "python",
   "pygments_lexer": "ipython2",
   "version": "2.7.6"
  }
 },
 "nbformat": 4,
 "nbformat_minor": 5
}
