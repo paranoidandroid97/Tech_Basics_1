{
 "cells": [
  {
   "metadata": {},
   "cell_type": "markdown",
   "source": [
    "### General Info on Python\n",
    "\n",
    "The Python syntax we are learning in this class is Python3. In 2025, most people are using Python3, but you should know that before Python3 there was Python2, and it has slightly different syntax that is not compatible with Python3. If you ever came across some old code examples and realised that it gives you error messages in your Python3 environment, the reason might be it was written in Python2.\n",
    "\n",
    "The easiest way to identify if a Python program is written in Python2 is through the print function.\n",
    "\n",
    "Last week, we learnt about print function in Python3 and it looks like this:\n"
   ],
   "id": "bb40e63d08bb5d3c"
  },
  {
   "metadata": {},
   "cell_type": "code",
   "outputs": [],
   "execution_count": null,
   "source": "print(\"hello again!\")",
   "id": "825ebd18b01e9a9d"
  },
  {
   "metadata": {},
   "cell_type": "markdown",
   "source": "But in Python2, the same function looks like this:",
   "id": "74157ae7a7fe0edb"
  },
  {
   "metadata": {
    "ExecuteTime": {
     "end_time": "2025-04-12T12:39:43.457380Z",
     "start_time": "2025-04-12T12:39:43.444864Z"
    }
   },
   "cell_type": "code",
   "source": "print \"hello again!\"",
   "id": "ce31a55d5f6a09f6",
   "outputs": [
    {
     "ename": "SyntaxError",
     "evalue": "Missing parentheses in call to 'print'. Did you mean print(...)? (1039471477.py, line 1)",
     "output_type": "error",
     "traceback": [
      "\u001B[0;36m  Cell \u001B[0;32mIn[1], line 1\u001B[0;36m\u001B[0m\n\u001B[0;31m    print \"hello again!\"\u001B[0m\n\u001B[0m    ^\u001B[0m\n\u001B[0;31mSyntaxError\u001B[0m\u001B[0;31m:\u001B[0m Missing parentheses in call to 'print'. Did you mean print(...)?\n"
     ]
    }
   ],
   "execution_count": 1
  },
  {
   "metadata": {},
   "cell_type": "markdown",
   "source": [
    "Another note on Python3 and printing is that by default all Python3 text objects use UTF-8 internally. Which means you can print any weird symbols supported by UTF-8 without extra effort. (Which is not the case with Python2)\n",
    "\n"
   ],
   "id": "91d29bb447db531e"
  },
  {
   "metadata": {},
   "cell_type": "code",
   "outputs": [],
   "execution_count": null,
   "source": "print(\"🤨😶😐\")",
   "id": "2362c8d78103acc7"
  },
  {
   "metadata": {},
   "cell_type": "markdown",
   "source": [
    "\n",
    "\n",
    "If you are interested to know more about the history and the differences between the two, you can checkout [this link](https://www.datacamp.com/blog/python-2-vs-3-everything-you-need-to-know)\n"
   ],
   "id": "a1269d9766310999"
  },
  {
   "metadata": {},
   "cell_type": "markdown",
   "source": "---",
   "id": "13e8c8f74b424996"
  },
  {
   "metadata": {},
   "cell_type": "markdown",
   "source": [
    "### Variables\n",
    "\n",
    "In math, a variable is a letter that represents an unknown number. Ex: `1 + x  = 4.` In programming, variables are more like holders that can store any information that will be needed later in the program's execution. The value stored in the variable changes each time the variable is assigned a new value.\n",
    "\n",
    "In Python, variables are more flexible than programming languages such as C. It is possible to assign different data types to the same variable and it's type changes automatically. You can use the function `type()` to find out the data type of any expression.\n"
   ],
   "id": "f714ff876a616f9a"
  },
  {
   "metadata": {
    "ExecuteTime": {
     "end_time": "2025-04-14T16:37:51.652335Z",
     "start_time": "2025-04-14T16:37:51.645543Z"
    }
   },
   "cell_type": "code",
   "source": [
    "x = 1\n",
    "print(\"The current value of X is: \", x, \". Data type is: \", type(x))\n",
    "x = \"amazing\"\n",
    "print(\"The current value of X is: \", x, \". Data type is: \", type(x))\n",
    "x= [1,2,3]\n",
    "print(\"The current value of X is: \", x, \". Data type is: \", type(x))\n",
    "x = True\n",
    "print(\"The current value of X is: \", x, \". Data type is: \", type(x))"
   ],
   "id": "a02926d869a26312",
   "outputs": [
    {
     "name": "stdout",
     "output_type": "stream",
     "text": [
      "The current value of X is:  1 . Data type is:  <class 'int'>\n",
      "The current value of X is:  amazing . Data type is:  <class 'str'>\n",
      "The current value of X is:  [1, 2, 3] . Data type is:  <class 'list'>\n",
      "The current value of X is:  True . Data type is:  <class 'bool'>\n"
     ]
    }
   ],
   "execution_count": 19
  },
  {
   "metadata": {},
   "cell_type": "markdown",
   "source": "You can also convert data types based on your need",
   "id": "f800b2b1218afea5"
  },
  {
   "metadata": {
    "ExecuteTime": {
     "end_time": "2025-04-14T21:18:05.526462Z",
     "start_time": "2025-04-14T21:18:05.521938Z"
    }
   },
   "cell_type": "code",
   "source": [
    "result = 13 * 11\n",
    "\n",
    "print(type(result))\n",
    "\n",
    "result =  str(result)\n",
    "\n",
    "print(type(result))"
   ],
   "id": "895b107c53494d52",
   "outputs": [
    {
     "name": "stdout",
     "output_type": "stream",
     "text": [
      "<class 'int'>\n",
      "<class 'str'>\n"
     ]
    }
   ],
   "execution_count": 31
  },
  {
   "metadata": {
    "ExecuteTime": {
     "end_time": "2025-04-14T21:19:38.628033Z",
     "start_time": "2025-04-14T21:19:35.177484Z"
    }
   },
   "cell_type": "code",
   "source": [
    "number1 = input(\"Enter the first number: \")\n",
    "number2 = input(\"Enter the second number: \")\n",
    "print(number1 + number2)\n",
    "print(int(number1) + int(number2))"
   ],
   "id": "57aeb2354946e823",
   "outputs": [
    {
     "name": "stdout",
     "output_type": "stream",
     "text": [
      "34\n",
      "7\n"
     ]
    }
   ],
   "execution_count": 33
  },
  {
   "metadata": {},
   "cell_type": "markdown",
   "source": "Or take the user input and save it to a variable",
   "id": "ac3cf6ca8056d59b"
  },
  {
   "metadata": {
    "ExecuteTime": {
     "end_time": "2025-04-14T18:54:12.889747Z",
     "start_time": "2025-04-14T18:54:07.827305Z"
    }
   },
   "cell_type": "code",
   "source": [
    "something = input(\"Type something: \")\n",
    "print(\"You typed:\", something)"
   ],
   "id": "247101908c8af59c",
   "outputs": [
    {
     "name": "stdout",
     "output_type": "stream",
     "text": [
      "You typed: whatttt\n"
     ]
    }
   ],
   "execution_count": 23
  },
  {
   "metadata": {},
   "cell_type": "markdown",
   "source": "We learnt that `=` is an assignment operator and  `==` really means equal. There are more special assignment operators that combines assignment with algorithmic operators. What should the following code print out?\n",
   "id": "b9a8a2dba2ef699"
  },
  {
   "metadata": {
    "ExecuteTime": {
     "end_time": "2025-04-15T05:20:08.587104Z",
     "start_time": "2025-04-15T05:20:08.577778Z"
    }
   },
   "cell_type": "code",
   "source": [
    "x = 1\n",
    "x += 3\n",
    "print(x)"
   ],
   "id": "fe3b409485c48015",
   "outputs": [
    {
     "name": "stdout",
     "output_type": "stream",
     "text": [
      "4\n"
     ]
    }
   ],
   "execution_count": 34
  },
  {
   "metadata": {},
   "cell_type": "markdown",
   "source": "#### Task 1",
   "id": "e291f51e7a12a7c4"
  },
  {
   "metadata": {},
   "cell_type": "markdown",
   "source": [
    "Get to learn all the basic assignment operators by trying them out in a code cell:\n",
    "`+=`,`-=`,`*=`,`/=`,`%=`,`//=`,`**=`.\n",
    "If you already know the basic ones, check out the less common ones [here](https://www.w3schools.com/python/python_operators.asp)\n"
   ],
   "id": "7fc6b3e8886df1af"
  },
  {
   "metadata": {},
   "cell_type": "markdown",
   "source": "### More about Strings",
   "id": "8c9edbca0e6862fa"
  },
  {
   "metadata": {},
   "cell_type": "markdown",
   "source": "Last week we talked about how you can *escape* special characters by putting a backslash `\\` before. For example:",
   "id": "e55c10dfab006b55"
  },
  {
   "metadata": {
    "ExecuteTime": {
     "end_time": "2025-04-15T05:59:51.666925Z",
     "start_time": "2025-04-15T05:59:51.663253Z"
    }
   },
   "cell_type": "code",
   "source": "\"The teacher said. \\\"I think that's a cool idea!\\\"\"",
   "id": "65e1290d0e0a3d16",
   "outputs": [
    {
     "data": {
      "text/plain": [
       "'\\\\'"
      ]
     },
     "execution_count": 45,
     "metadata": {},
     "output_type": "execute_result"
    }
   ],
   "execution_count": 45
  },
  {
   "metadata": {},
   "cell_type": "markdown",
   "source": [
    "See how the escaped characters got rendered in a different color in your code editor.\n",
    "\n",
    "They are called escape characters because they are escaped from their usual meaning. There are some other useful escape characters that are commonly used:\n",
    "\n",
    "- `\\n` for new line in your string\n",
    "- `\\t` for adding a tab in your string\n",
    "- `\\\\` you will need to escape your backslash if you want to print one"
   ],
   "id": "4e32353b21f07289"
  },
  {
   "metadata": {},
   "cell_type": "markdown",
   "source": "How many backslash will you get in the end?",
   "id": "e445848c91a795b5"
  },
  {
   "metadata": {
    "ExecuteTime": {
     "end_time": "2025-04-15T06:01:39.715404Z",
     "start_time": "2025-04-15T06:01:39.713247Z"
    }
   },
   "cell_type": "code",
   "source": "print(\"\\\\\\\\\\\\\\\\\\n\\\\\\\\\\\\\\\\\")",
   "id": "94e8e6ad02fe2b5",
   "outputs": [
    {
     "name": "stdout",
     "output_type": "stream",
     "text": [
      "\\\\\\\\\n",
      "\\\\\\\\\n"
     ]
    }
   ],
   "execution_count": 47
  },
  {
   "metadata": {},
   "cell_type": "markdown",
   "source": "Some algorithmic Operations can also be applied to strings",
   "id": "38b0afe18cb2765b"
  },
  {
   "metadata": {},
   "cell_type": "code",
   "outputs": [],
   "execution_count": null,
   "source": [
    "print(\"!\" * 3)\n",
    "print(\"a\" + \"b\")\n",
    "print(\"10\" + \"10\")"
   ],
   "id": "d00b2372a9f2a3f"
  },
  {
   "metadata": {},
   "cell_type": "markdown",
   "source": "Strings have length, and you can use `len()` to get  the length of your string.",
   "id": "a23468a8fc523135"
  },
  {
   "metadata": {
    "ExecuteTime": {
     "end_time": "2025-04-15T06:04:29.188710Z",
     "start_time": "2025-04-15T06:04:29.185534Z"
    }
   },
   "cell_type": "code",
   "source": [
    "print(len(\"How many characters are there in this sentence?)\"))\n",
    "print(len(\"\\n\"))"
   ],
   "id": "3d49ada838237b8e",
   "outputs": [
    {
     "name": "stdout",
     "output_type": "stream",
     "text": [
      "48\n",
      "1\n"
     ]
    }
   ],
   "execution_count": 49
  },
  {
   "metadata": {},
   "cell_type": "markdown",
   "source": "You can also transform a string to make sure you only have uppercase or lowercase in your string.",
   "id": "992c8872f3fbfa4"
  },
  {
   "metadata": {
    "ExecuteTime": {
     "end_time": "2025-04-15T06:07:23.923479Z",
     "start_time": "2025-04-15T06:07:23.920153Z"
    }
   },
   "cell_type": "code",
   "source": [
    "print('uppercase'.upper())\n",
    "print('Lowercase'.lower())"
   ],
   "id": "f811d73c488a28fb",
   "outputs": [
    {
     "name": "stdout",
     "output_type": "stream",
     "text": [
      "UPPERCASE\n",
      "lowercase\n"
     ]
    }
   ],
   "execution_count": 51
  },
  {
   "metadata": {},
   "cell_type": "markdown",
   "source": "---",
   "id": "1dd56e2a20d5c757"
  },
  {
   "metadata": {},
   "cell_type": "markdown",
   "source": "## Conditional Statements",
   "id": "a4e822dc988bca79"
  },
  {
   "metadata": {},
   "cell_type": "markdown",
   "source": "Conditional Statements comes in handy when handling user input.",
   "id": "8cb7bff8af4168c8"
  },
  {
   "metadata": {},
   "cell_type": "code",
   "outputs": [],
   "execution_count": null,
   "source": [
    "number = int(input(\"Please type in a number: \"))\n",
    "\n",
    "if number < 0:\n",
    "    print(\"The number is negative.\")\n",
    "\n",
    "if number > 0:\n",
    "    print(\"The number is positive.\")\n",
    "\n",
    "if number == 0:\n",
    "    print(\"The number is zero.\")"
   ],
   "id": "8d347736e10099ad"
  },
  {
   "metadata": {},
   "cell_type": "markdown",
   "source": "You can also chain them together to handle more complicated situation",
   "id": "6db38efc0f34623"
  },
  {
   "metadata": {
    "ExecuteTime": {
     "end_time": "2025-04-15T06:18:47.247190Z",
     "start_time": "2025-04-15T06:18:40.728604Z"
    }
   },
   "cell_type": "code",
   "source": [
    "n1 = int(input(\"Number 1: \"))\n",
    "n2 = int(input(\"Number 2: \"))\n",
    "n3 = int(input(\"Number 3: \"))\n",
    "n4 = int(input(\"Number 4: \"))\n",
    "\n",
    "if n1 > n2 and n1 > n3 and n1 > n4:\n",
    "    greatest = n1\n",
    "elif n2 > n3 and n2 > n4:\n",
    "    greatest = n2\n",
    "elif n3 > n4:\n",
    "    greatest = n3\n",
    "else:\n",
    "    greatest = n4\n",
    "\n",
    "print(f\" {greatest} is the greatest of the numbers.\")"
   ],
   "id": "fdf6f4241e637190",
   "outputs": [
    {
     "name": "stdout",
     "output_type": "stream",
     "text": [
      " 6 is the greatest of the numbers.\n"
     ]
    }
   ],
   "execution_count": 58
  },
  {
   "metadata": {},
   "cell_type": "markdown",
   "source": [
    "### Task 2\n",
    "\n",
    "Please write a small program which asks for the user's age. Check the following criteria and print some text for feedbacks:\n",
    "1) If it is a valid number\n",
    "2) If it is possible for a human to have such an age\n",
    "3) If someone is an adult or not"
   ],
   "id": "9b02305faef577a4"
  },
  {
   "metadata": {},
   "cell_type": "code",
   "outputs": [],
   "execution_count": null,
   "source": "",
   "id": "8a600ad4bab0d44d"
  },
  {
   "metadata": {},
   "cell_type": "markdown",
   "source": [
    "### Task 3\n",
    "Correct the following code cells with minimal changes"
   ],
   "id": "15aff2c72e11a952"
  },
  {
   "metadata": {
    "ExecuteTime": {
     "end_time": "2025-04-15T06:12:27.823628Z",
     "start_time": "2025-04-15T06:12:27.773702Z"
    }
   },
   "cell_type": "code",
   "outputs": [
    {
     "ename": "NameError",
     "evalue": "name 'true' is not defined",
     "output_type": "error",
     "traceback": [
      "\u001B[0;31m---------------------------------------------------------------------------\u001B[0m",
      "\u001B[0;31mNameError\u001B[0m                                 Traceback (most recent call last)",
      "Cell \u001B[0;32mIn[52], line 1\u001B[0m\n\u001B[0;32m----> 1\u001B[0m x \u001B[38;5;241m=\u001B[39m \u001B[43mtrue\u001B[49m\n",
      "\u001B[0;31mNameError\u001B[0m: name 'true' is not defined"
     ]
    }
   ],
   "execution_count": 52,
   "source": "x = true",
   "id": "1450a376a07ba2aa"
  },
  {
   "metadata": {
    "ExecuteTime": {
     "end_time": "2025-04-14T20:40:07.153677Z",
     "start_time": "2025-04-14T20:40:07.133948Z"
    }
   },
   "cell_type": "code",
   "outputs": [
    {
     "ename": "TypeError",
     "evalue": "can only concatenate str (not \"int\") to str",
     "output_type": "error",
     "traceback": [
      "\u001B[0;31m---------------------------------------------------------------------------\u001B[0m",
      "\u001B[0;31mTypeError\u001B[0m                                 Traceback (most recent call last)",
      "Cell \u001B[0;32mIn[30], line 2\u001B[0m\n\u001B[1;32m      1\u001B[0m result \u001B[38;5;241m=\u001B[39m \u001B[38;5;241m14\u001B[39m \u001B[38;5;241m*\u001B[39m \u001B[38;5;241m4\u001B[39m\n\u001B[0;32m----> 2\u001B[0m \u001B[38;5;28mprint\u001B[39m(\u001B[38;5;124;43m\"\u001B[39;49m\u001B[38;5;124;43mThe result is\u001B[39;49m\u001B[38;5;124;43m\"\u001B[39;49m\u001B[43m \u001B[49m\u001B[38;5;241;43m+\u001B[39;49m\u001B[43m \u001B[49m\u001B[43mresult\u001B[49m)\n",
      "\u001B[0;31mTypeError\u001B[0m: can only concatenate str (not \"int\") to str"
     ]
    }
   ],
   "execution_count": 30,
   "source": [
    "result = 14 * 4\n",
    "print(\"The result is\" + result)"
   ],
   "id": "82987da30503601e"
  },
  {
   "metadata": {
    "ExecuteTime": {
     "end_time": "2025-04-15T06:15:28.269794Z",
     "start_time": "2025-04-15T06:15:28.266692Z"
    }
   },
   "cell_type": "code",
   "source": [
    "if 2 < 9 / 3:\n",
    "print(\"2 is smaller than 3.\")\n",
    "else:print(\"How to print this line?\")"
   ],
   "id": "5f60fc0cf48c3cb9",
   "outputs": [
    {
     "ename": "IndentationError",
     "evalue": "expected an indented block after 'if' statement on line 1 (2264922794.py, line 2)",
     "output_type": "error",
     "traceback": [
      "\u001B[0;36m  Cell \u001B[0;32mIn[57], line 2\u001B[0;36m\u001B[0m\n\u001B[0;31m    print(\"2 is smaller than 3.\")\u001B[0m\n\u001B[0m    ^\u001B[0m\n\u001B[0;31mIndentationError\u001B[0m\u001B[0;31m:\u001B[0m expected an indented block after 'if' statement on line 1\n"
     ]
    }
   ],
   "execution_count": 57
  },
  {
   "metadata": {},
   "cell_type": "markdown",
   "source": "---",
   "id": "e36269364df6e37c"
  },
  {
   "metadata": {},
   "cell_type": "markdown",
   "source": [
    "## Assignment 2\n",
    "\n",
    "Your assignment this week is to create a little text game using Python. To make it a bit more interesting, let's learn a few extra things."
   ],
   "id": "645b26348321aa37"
  },
  {
   "metadata": {},
   "cell_type": "markdown",
   "source": [
    "### Timer\n",
    "To make your text game more interactive, let's learn some simple tricks.\n",
    "For that one need to first import the time library."
   ],
   "id": "9dc8d1a399f03969"
  },
  {
   "metadata": {
    "ExecuteTime": {
     "end_time": "2025-04-14T19:00:26.510360Z",
     "start_time": "2025-04-14T19:00:26.506779Z"
    }
   },
   "cell_type": "code",
   "outputs": [],
   "execution_count": 24,
   "source": "import time # import the time library",
   "id": "d6874494d3cc7fee"
  },
  {
   "metadata": {},
   "cell_type": "markdown",
   "source": "Now try to run the following code and see what's going to happen.\n",
   "id": "4ca170ab31b8f0d"
  },
  {
   "metadata": {
    "ExecuteTime": {
     "end_time": "2025-04-14T19:01:17.756669Z",
     "start_time": "2025-04-14T19:01:15.743777Z"
    }
   },
   "cell_type": "code",
   "outputs": [
    {
     "name": "stdout",
     "output_type": "stream",
     "text": [
      "1\n",
      "2\n",
      "3\n"
     ]
    }
   ],
   "execution_count": 26,
   "source": [
    "print(\"1\")\n",
    "time.sleep(1) # delay 1 second\n",
    "print(\"2\")\n",
    "time.sleep(1)\n",
    "print(\"3\")"
   ],
   "id": "ec2bc9df24880bc7"
  },
  {
   "metadata": {},
   "cell_type": "markdown",
   "source": [
    "### Simple Loop: While\n",
    "\n",
    "\n"
   ],
   "id": "1be1de63cda8e4d2"
  },
  {
   "metadata": {},
   "cell_type": "markdown",
   "source": "Another techniques that comes in handy when handling user input is to use a while loop. We will learn more about loops next week. While loop is useful when you want to make sure the users follow exactly what you ask them to do:",
   "id": "2942506b9afc9a3c"
  },
  {
   "metadata": {
    "ExecuteTime": {
     "end_time": "2025-04-15T06:29:27.845740Z",
     "start_time": "2025-04-15T06:29:24.297884Z"
    }
   },
   "cell_type": "code",
   "source": [
    "while True:\n",
    "    number = int(input(\"Please type in a number, -1 to quit: \"))\n",
    "\n",
    "    if number == -1:\n",
    "        break\n",
    "\n",
    "    print(number ** 2)\n",
    "\n",
    "print(\"Thanks and bye!\")"
   ],
   "id": "972ce79caf8ff7dc",
   "outputs": [
    {
     "name": "stdout",
     "output_type": "stream",
     "text": [
      "Thanks and bye!\n"
     ]
    }
   ],
   "execution_count": 61
  },
  {
   "metadata": {},
   "cell_type": "markdown",
   "source": [
    "### How to run Python code in PyCharm?\n",
    "Right click on your `.py` file and click on `▷ Run`. Or use the keyboard shortcut CTRL+SHIFT+R.\n"
   ],
   "id": "6f2e67e1f12f92a1"
  }
 ],
 "metadata": {
  "kernelspec": {
   "display_name": "Python 3",
   "language": "python",
   "name": "python3"
  },
  "language_info": {
   "codemirror_mode": {
    "name": "ipython",
    "version": 2
   },
   "file_extension": ".py",
   "mimetype": "text/x-python",
   "name": "python",
   "nbconvert_exporter": "python",
   "pygments_lexer": "ipython2",
   "version": "2.7.6"
  }
 },
 "nbformat": 4,
 "nbformat_minor": 5
}
